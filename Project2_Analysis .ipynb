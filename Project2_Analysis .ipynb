{
 "cells": [
  {
   "cell_type": "markdown",
   "id": "44d48853",
   "metadata": {
    "scrolled": true
   },
   "source": [
    "# Analysis of IMDB Data\n"
   ]
  },
  {
   "cell_type": "markdown",
   "id": "0fb75f3d",
   "metadata": {
    "scrolled": true
   },
   "source": [
    "We will analyze a subset of IMDB's actors, genres, movie actors, and movie ratings data. This dataset comes to us from Kaggle (https://www.kaggle.com/datasets/ashirwadsangwan/imdb-dataset) although we have taken steps to pull this data into a publis s3 bucket: \n",
    "\n",
    "* s3://cis9760-lecture9-movieanalysis/name.basics.tsv ---> (actors)\n",
    "* s3://cis9760-lecture9-movieanalysis/title.basics.tsv ---> (genres)\n",
    "* s3://cis9760-lecture9-movieanalysis/title.principals.tsv ---> (movie actors)\n",
    "* s3://cis9760-lecture9-movieanalysis/title.ratings.tsv ---> (movie ratings)"
   ]
  },
  {
   "cell_type": "markdown",
   "id": "8aa84eb7",
   "metadata": {},
   "source": [
    "# Content\n",
    "\n",
    "**<br />name.basics.tsv.gz – Contains the following information for names:**\n",
    "<br />nconst (string) - alphanumeric unique identifier of the name/person.\n",
    "<br />primaryName (string)– name by which the person is most often credited.\n",
    "<br />birthYear – in YYYY format.\n",
    "<br />deathYear – in YYYY format if applicable, else .\n",
    "<br />primaryProfession (array of strings)– the top-3 professions of the person.\n",
    "<br />knownForTitles (array of tconsts) – titles the person is known for.\n",
    "<br/><br/>\n",
    "**<br />title.basics.tsv.gz - Contains the following information for titles:**\n",
    "<br />tconst (string) - alphanumeric unique identifier of the title.\n",
    "<br />titleType (string) – the type/format of the title (e.g. movie, short, tvseries, tvepisode, video, etc).\n",
    "<br />primaryTitle (string) – the more popular title / the title used by the filmmakers on promotional materials at the point of release.\n",
    "<br />originalTitle (string) - original title, in the original language.\n",
    "<br />isAdult (boolean) - 0: non-adult title; 1: adult title.\n",
    "<br />startYear (YYYY) – represents the release year of a title. In the case of TV Series, it is the series start year.\n",
    "<br />endYear (YYYY) – TV Series end year. for all other title types.\n",
    "<br />runtimeMinutes – primary runtime of the title, in minutes.\n",
    "<br />genres (string array) – includes up to three genres associated with the title.\n",
    "<br/><br/>\n",
    "**<br />title.principals.tsv – Contains the principal cast/crew for titles:**\n",
    "<br />tconst (string) - alphanumeric unique identifier of the title.\n",
    "<br />ordering (integer) – a number to uniquely identify rows for a given titleId.\n",
    "<br />nconst (string) - alphanumeric unique identifier of the name/person.\n",
    "<br />category (string) - the category of job that person was in.\n",
    "<br />job (string) - the specific job title if applicable, else.\n",
    "<br />characters (string) - the name of the character played if applicable, else.\n",
    "<br/><br/>\n",
    "**<br />title.ratings.tsv.gz – Contains the IMDb rating and votes information for titles:**\n",
    "<br />tconst (string) - alphanumeric unique identifier of the title.\n",
    "<br />averageRating – weighted average of all the individual user ratings.\n",
    "<br />numVotes - number of votes the title has received."
   ]
  },
  {
   "cell_type": "markdown",
   "id": "2b2929b7",
   "metadata": {},
   "source": [
    "# PART 1 - Installation and Initial Setup"
   ]
  },
  {
   "cell_type": "markdown",
   "id": "729510cd",
   "metadata": {},
   "source": [
    "Begin by installing the necessary libraries that you may need to conduct your analysis. At the very least, you must install pandas and matplotlib"
   ]
  },
  {
   "cell_type": "code",
   "execution_count": 4,
   "id": "7f67d464",
   "metadata": {},
   "outputs": [
    {
     "data": {
      "text/html": [
       "Current session configs: <tt>{'conf': {'spark.pyspark.python': 'python3', 'spark.pyspark.virtualenv.enabled': 'true', 'spark.pyspark.virtualenv.type': 'native', 'spark.pyspark.virtualenv.bin.path': '/usr/bin/virtualenv'}, 'kind': 'pyspark'}</tt><br>"
      ],
      "text/plain": [
       "<IPython.core.display.HTML object>"
      ]
     },
     "metadata": {},
     "output_type": "display_data"
    },
    {
     "data": {
      "text/html": [
       "<table>\n",
       "<tr><th>ID</th><th>YARN Application ID</th><th>Kind</th><th>State</th><th>Spark UI</th><th>Driver log</th><th>Current session?</th></tr><tr><td>3</td><td>application_1670182157152_0004</td><td>pyspark</td><td>idle</td><td><a target=\"_blank\" href=\"http://ip-172-31-46-117.us-east-2.compute.internal:20888/proxy/application_1670182157152_0004/\">Link</a></td><td><a target=\"_blank\" href=\"http://ip-172-31-42-53.us-east-2.compute.internal:8042/node/containerlogs/container_1670182157152_0004_01_000001/livy\">Link</a></td><td>✔</td></tr></table>"
      ],
      "text/plain": [
       "<IPython.core.display.HTML object>"
      ]
     },
     "metadata": {},
     "output_type": "display_data"
    }
   ],
   "source": [
    "%%info"
   ]
  },
  {
   "cell_type": "markdown",
   "id": "7bb2442c",
   "metadata": {},
   "source": [
    "Let's install the necessary packages here"
   ]
  },
  {
   "cell_type": "code",
   "execution_count": 5,
   "id": "6008710e",
   "metadata": {},
   "outputs": [
    {
     "data": {
      "application/vnd.jupyter.widget-view+json": {
       "model_id": "cfc6d06fda8840f9a8805e47a4b0f4c2",
       "version_major": 2,
       "version_minor": 0
      },
      "text/plain": [
       "VBox()"
      ]
     },
     "metadata": {},
     "output_type": "display_data"
    },
    {
     "data": {
      "application/vnd.jupyter.widget-view+json": {
       "model_id": "",
       "version_major": 2,
       "version_minor": 0
      },
      "text/plain": [
       "FloatProgress(value=0.0, bar_style='info', description='Progress:', layout=Layout(height='25px', width='50%'),…"
      ]
     },
     "metadata": {},
     "output_type": "display_data"
    },
    {
     "name": "stdout",
     "output_type": "stream",
     "text": [
      "Collecting pandas==1.0.3\n",
      "  Using cached https://files.pythonhosted.org/packages/4a/6a/94b219b8ea0f2d580169e85ed1edc0163743f55aaeca8a44c2e8fc1e344e/pandas-1.0.3-cp37-cp37m-manylinux1_x86_64.whl\n",
      "Requirement already satisfied: pytz>=2017.2 in /usr/local/lib/python3.7/site-packages (from pandas==1.0.3)\n",
      "Requirement already satisfied: numpy>=1.13.3 in /usr/local/lib64/python3.7/site-packages (from pandas==1.0.3)\n",
      "Collecting python-dateutil>=2.6.1 (from pandas==1.0.3)\n",
      "  Using cached https://files.pythonhosted.org/packages/36/7a/87837f39d0296e723bb9b62bbb257d0355c7f6128853c78955f57342a56d/python_dateutil-2.8.2-py2.py3-none-any.whl\n",
      "Requirement already satisfied: six>=1.5 in /usr/local/lib/python3.7/site-packages (from python-dateutil>=2.6.1->pandas==1.0.3)\n",
      "Installing collected packages: python-dateutil, pandas\n",
      "Successfully installed pandas-1.0.3 python-dateutil-2.8.2\n",
      "\n",
      "Collecting matplotlib==3.2.1\n",
      "  Using cached https://files.pythonhosted.org/packages/b2/c2/71fcf957710f3ba1f09088b35776a799ba7dd95f7c2b195ec800933b276b/matplotlib-3.2.1-cp37-cp37m-manylinux1_x86_64.whl\n",
      "Requirement already satisfied: python-dateutil>=2.1 in /mnt/tmp/1670388765215-0/lib/python3.7/site-packages (from matplotlib==3.2.1)\n",
      "Collecting pyparsing!=2.0.4,!=2.1.2,!=2.1.6,>=2.0.1 (from matplotlib==3.2.1)\n",
      "  Using cached https://files.pythonhosted.org/packages/6c/10/a7d0fa5baea8fe7b50f448ab742f26f52b80bfca85ac2be9d35cdd9a3246/pyparsing-3.0.9-py3-none-any.whl\n",
      "Collecting cycler>=0.10 (from matplotlib==3.2.1)\n",
      "  Using cached https://files.pythonhosted.org/packages/5c/f9/695d6bedebd747e5eb0fe8fad57b72fdf25411273a39791cde838d5a8f51/cycler-0.11.0-py3-none-any.whl\n",
      "Requirement already satisfied: numpy>=1.11 in /usr/local/lib64/python3.7/site-packages (from matplotlib==3.2.1)\n",
      "Collecting kiwisolver>=1.0.1 (from matplotlib==3.2.1)\n",
      "  Using cached https://files.pythonhosted.org/packages/ab/8f/8dbe2d4efc4c0b08ec67d6efb7cc31fbfd688c80afad85f65980633b0d37/kiwisolver-1.4.4-cp37-cp37m-manylinux_2_5_x86_64.manylinux1_x86_64.whl\n",
      "Requirement already satisfied: six>=1.5 in /usr/local/lib/python3.7/site-packages (from python-dateutil>=2.1->matplotlib==3.2.1)\n",
      "Collecting typing-extensions; python_version < \"3.8\" (from kiwisolver>=1.0.1->matplotlib==3.2.1)\n",
      "  Using cached https://files.pythonhosted.org/packages/0b/8e/f1a0a5a76cfef77e1eb6004cb49e5f8d72634da638420b9ea492ce8305e8/typing_extensions-4.4.0-py3-none-any.whl\n",
      "Installing collected packages: pyparsing, cycler, typing-extensions, kiwisolver, matplotlib\n",
      "Successfully installed cycler-0.11.0 kiwisolver-1.4.4 matplotlib-3.2.1 pyparsing-3.0.9 typing-extensions-4.4.0"
     ]
    }
   ],
   "source": [
    "# let's install the packages we need: \n",
    "sc.install_pypi_package(\"pandas==1.0.3\")\n",
    "sc.install_pypi_package(\"matplotlib==3.2.1\")"
   ]
  },
  {
   "cell_type": "markdown",
   "id": "78b81a13",
   "metadata": {},
   "source": [
    "Now, import the installed packages from the previous block below."
   ]
  },
  {
   "cell_type": "code",
   "execution_count": 6,
   "id": "fb570bfa",
   "metadata": {},
   "outputs": [
    {
     "data": {
      "application/vnd.jupyter.widget-view+json": {
       "model_id": "91ea96e5e1bc441ca613ab501ca679c8",
       "version_major": 2,
       "version_minor": 0
      },
      "text/plain": [
       "VBox()"
      ]
     },
     "metadata": {},
     "output_type": "display_data"
    },
    {
     "data": {
      "application/vnd.jupyter.widget-view+json": {
       "model_id": "",
       "version_major": 2,
       "version_minor": 0
      },
      "text/plain": [
       "FloatProgress(value=0.0, bar_style='info', description='Progress:', layout=Layout(height='25px', width='50%'),…"
      ]
     },
     "metadata": {},
     "output_type": "display_data"
    }
   ],
   "source": [
    "import numpy as np"
   ]
  },
  {
   "cell_type": "markdown",
   "id": "09682172",
   "metadata": {},
   "source": [
    "# Loading Data"
   ]
  },
  {
   "cell_type": "markdown",
   "id": "0f2f1266",
   "metadata": {},
   "source": [
    "Load all data from S3 into a Spark dataframe object \n"
   ]
  },
  {
   "cell_type": "code",
   "execution_count": 7,
   "id": "0e2d344b",
   "metadata": {},
   "outputs": [
    {
     "data": {
      "application/vnd.jupyter.widget-view+json": {
       "model_id": "f1ecf6970daf45feb7db43128916306e",
       "version_major": 2,
       "version_minor": 0
      },
      "text/plain": [
       "VBox()"
      ]
     },
     "metadata": {},
     "output_type": "display_data"
    },
    {
     "data": {
      "application/vnd.jupyter.widget-view+json": {
       "model_id": "",
       "version_major": 2,
       "version_minor": 0
      },
      "text/plain": [
       "FloatProgress(value=0.0, bar_style='info', description='Progress:', layout=Layout(height='25px', width='50%'),…"
      ]
     },
     "metadata": {},
     "output_type": "display_data"
    }
   ],
   "source": [
    "actors = spark.read.csv('s3://cis9760-lecture9-movieanalysis/name.basics.tsv', sep=r'\\t', header=True)\n",
    "genres = spark.read.csv('s3://cis9760-lecture9-movieanalysis/title.basics.tsv', sep=r'\\t', header=True)\n",
    "movie_actors = spark.read.csv('s3://cis9760-lecture9-movieanalysis/title.principals.tsv', sep=r'\\t', header=True)\n",
    "movie_ratings = spark.read.csv('s3://cis9760-lecture9-movieanalysis/title.ratings.tsv', sep=r'\\t', header=True)"
   ]
  },
  {
   "cell_type": "markdown",
   "id": "2e91ff9a",
   "metadata": {},
   "source": [
    "## Actors"
   ]
  },
  {
   "cell_type": "markdown",
   "id": "3576d3e1",
   "metadata": {},
   "source": [
    "Display the schema below:\n"
   ]
  },
  {
   "cell_type": "code",
   "execution_count": 8,
   "id": "58885631",
   "metadata": {},
   "outputs": [
    {
     "data": {
      "application/vnd.jupyter.widget-view+json": {
       "model_id": "3de8a1805902489b9aacb3de46423e2c",
       "version_major": 2,
       "version_minor": 0
      },
      "text/plain": [
       "VBox()"
      ]
     },
     "metadata": {},
     "output_type": "display_data"
    },
    {
     "data": {
      "application/vnd.jupyter.widget-view+json": {
       "model_id": "",
       "version_major": 2,
       "version_minor": 0
      },
      "text/plain": [
       "FloatProgress(value=0.0, bar_style='info', description='Progress:', layout=Layout(height='25px', width='50%'),…"
      ]
     },
     "metadata": {},
     "output_type": "display_data"
    },
    {
     "name": "stdout",
     "output_type": "stream",
     "text": [
      "root\n",
      " |-- nconst: string (nullable = true)\n",
      " |-- primaryName: string (nullable = true)\n",
      " |-- birthYear: string (nullable = true)\n",
      " |-- deathYear: string (nullable = true)\n",
      " |-- primaryProfession: string (nullable = true)\n",
      " |-- knownForTitles: string (nullable = true)"
     ]
    }
   ],
   "source": [
    "actors.printSchema()"
   ]
  },
  {
   "cell_type": "markdown",
   "id": "4dcd5396",
   "metadata": {},
   "source": [
    "Display the first 5 rows with the following columns:\n",
    "\n",
    "* `primaryName`\n",
    "* `birthYear`\n",
    "* `deathYear`\n",
    "* `knownForTitles`"
   ]
  },
  {
   "cell_type": "code",
   "execution_count": 9,
   "id": "88d7d765",
   "metadata": {
    "scrolled": true
   },
   "outputs": [
    {
     "data": {
      "application/vnd.jupyter.widget-view+json": {
       "model_id": "4df6ed3b437d401f8e1738a8aded9c58",
       "version_major": 2,
       "version_minor": 0
      },
      "text/plain": [
       "VBox()"
      ]
     },
     "metadata": {},
     "output_type": "display_data"
    },
    {
     "data": {
      "application/vnd.jupyter.widget-view+json": {
       "model_id": "",
       "version_major": 2,
       "version_minor": 0
      },
      "text/plain": [
       "FloatProgress(value=0.0, bar_style='info', description='Progress:', layout=Layout(height='25px', width='50%'),…"
      ]
     },
     "metadata": {},
     "output_type": "display_data"
    },
    {
     "name": "stdout",
     "output_type": "stream",
     "text": [
      "+---------------+---------+---------+--------------------+\n",
      "|    primaryName|birthYear|deathYear|      knownForTitles|\n",
      "+---------------+---------+---------+--------------------+\n",
      "|   Fred Astaire|     1899|     1987|tt0050419,tt00531...|\n",
      "|  Lauren Bacall|     1924|     2014|tt0071877,tt01170...|\n",
      "|Brigitte Bardot|     1934|       \\N|tt0054452,tt00491...|\n",
      "|   John Belushi|     1949|     1982|tt0077975,tt00725...|\n",
      "| Ingmar Bergman|     1918|     2007|tt0069467,tt00509...|\n",
      "+---------------+---------+---------+--------------------+\n",
      "only showing top 5 rows"
     ]
    }
   ],
   "source": [
    "actors.select(\"primaryName\", \"birthYear\", \"deathYear\", \"knownForTitles\").show(5)"
   ]
  },
  {
   "cell_type": "markdown",
   "id": "8a3413bd",
   "metadata": {},
   "source": [
    "## Genres"
   ]
  },
  {
   "cell_type": "markdown",
   "id": "b3dad1e3",
   "metadata": {},
   "source": [
    "Display the first 10 rows with the following columns:\n",
    "    \n",
    "* `titleType`\n",
    "* `primaryTitle`\n",
    "* `genres`"
   ]
  },
  {
   "cell_type": "code",
   "execution_count": 10,
   "id": "6af9074a",
   "metadata": {},
   "outputs": [
    {
     "data": {
      "application/vnd.jupyter.widget-view+json": {
       "model_id": "577a3666d0ee4b80bbff07bf14998952",
       "version_major": 2,
       "version_minor": 0
      },
      "text/plain": [
       "VBox()"
      ]
     },
     "metadata": {},
     "output_type": "display_data"
    },
    {
     "data": {
      "application/vnd.jupyter.widget-view+json": {
       "model_id": "",
       "version_major": 2,
       "version_minor": 0
      },
      "text/plain": [
       "FloatProgress(value=0.0, bar_style='info', description='Progress:', layout=Layout(height='25px', width='50%'),…"
      ]
     },
     "metadata": {},
     "output_type": "display_data"
    },
    {
     "name": "stdout",
     "output_type": "stream",
     "text": [
      "+---------+--------------------+--------------------+\n",
      "|titleType|        primaryTitle|              genres|\n",
      "+---------+--------------------+--------------------+\n",
      "|    short|          Carmencita|   Documentary,Short|\n",
      "|    short|Le clown et ses c...|     Animation,Short|\n",
      "|    short|      Pauvre Pierrot|Animation,Comedy,...|\n",
      "|    short|         Un bon bock|     Animation,Short|\n",
      "|    short|    Blacksmith Scene|        Comedy,Short|\n",
      "|    short|   Chinese Opium Den|               Short|\n",
      "|    short|Corbett and Court...|         Short,Sport|\n",
      "|    short|Edison Kinetoscop...|   Documentary,Short|\n",
      "|    movie|          Miss Jerry|             Romance|\n",
      "|    short| Exiting the Factory|   Documentary,Short|\n",
      "+---------+--------------------+--------------------+\n",
      "only showing top 10 rows"
     ]
    }
   ],
   "source": [
    "genres.select(\"titleType\", \"primaryTitle\",\"genres\").show(10)"
   ]
  },
  {
   "cell_type": "markdown",
   "id": "6cfee801",
   "metadata": {},
   "source": [
    "Display the unique categories below:"
   ]
  },
  {
   "cell_type": "code",
   "execution_count": 11,
   "id": "f9f59eac",
   "metadata": {},
   "outputs": [
    {
     "data": {
      "application/vnd.jupyter.widget-view+json": {
       "model_id": "299a7b5d7b0945a9803a330321483336",
       "version_major": 2,
       "version_minor": 0
      },
      "text/plain": [
       "VBox()"
      ]
     },
     "metadata": {},
     "output_type": "display_data"
    },
    {
     "data": {
      "application/vnd.jupyter.widget-view+json": {
       "model_id": "",
       "version_major": 2,
       "version_minor": 0
      },
      "text/plain": [
       "FloatProgress(value=0.0, bar_style='info', description='Progress:', layout=Layout(height='25px', width='50%'),…"
      ]
     },
     "metadata": {},
     "output_type": "display_data"
    },
    {
     "name": "stdout",
     "output_type": "stream",
     "text": [
      "+------------+\n",
      "|   titleType|\n",
      "+------------+\n",
      "|    tvSeries|\n",
      "|tvMiniSeries|\n",
      "|       movie|\n",
      "|   videoGame|\n",
      "|   tvSpecial|\n",
      "|       video|\n",
      "|     tvMovie|\n",
      "|   tvEpisode|\n",
      "|     tvShort|\n",
      "|       short|\n",
      "+------------+"
     ]
    }
   ],
   "source": [
    "genres.select('titleType').distinct().show()"
   ]
  },
  {
   "cell_type": "markdown",
   "id": "ab1a5751",
   "metadata": {},
   "source": [
    "Display the schema below:"
   ]
  },
  {
   "cell_type": "code",
   "execution_count": 12,
   "id": "da96e5ad",
   "metadata": {},
   "outputs": [
    {
     "data": {
      "application/vnd.jupyter.widget-view+json": {
       "model_id": "673b2397a13a45cfb159990c12231fa0",
       "version_major": 2,
       "version_minor": 0
      },
      "text/plain": [
       "VBox()"
      ]
     },
     "metadata": {},
     "output_type": "display_data"
    },
    {
     "data": {
      "application/vnd.jupyter.widget-view+json": {
       "model_id": "",
       "version_major": 2,
       "version_minor": 0
      },
      "text/plain": [
       "FloatProgress(value=0.0, bar_style='info', description='Progress:', layout=Layout(height='25px', width='50%'),…"
      ]
     },
     "metadata": {},
     "output_type": "display_data"
    },
    {
     "name": "stdout",
     "output_type": "stream",
     "text": [
      "root\n",
      " |-- tconst: string (nullable = true)\n",
      " |-- titleType: string (nullable = true)\n",
      " |-- primaryTitle: string (nullable = true)\n",
      " |-- originalTitle: string (nullable = true)\n",
      " |-- isAdult: string (nullable = true)\n",
      " |-- startYear: string (nullable = true)\n",
      " |-- endYear: string (nullable = true)\n",
      " |-- runtimeMinutes: string (nullable = true)\n",
      " |-- genres: string (nullable = true)"
     ]
    }
   ],
   "source": [
    "genres.printSchema()"
   ]
  },
  {
   "cell_type": "markdown",
   "id": "f2e9f4c6",
   "metadata": {},
   "source": [
    "## Movie Actors"
   ]
  },
  {
   "cell_type": "markdown",
   "id": "bf5b9a1b",
   "metadata": {},
   "source": [
    "Display the schema below:"
   ]
  },
  {
   "cell_type": "code",
   "execution_count": 13,
   "id": "cb2ccc54",
   "metadata": {},
   "outputs": [
    {
     "data": {
      "application/vnd.jupyter.widget-view+json": {
       "model_id": "c53078dac633473f9665187054908cfc",
       "version_major": 2,
       "version_minor": 0
      },
      "text/plain": [
       "VBox()"
      ]
     },
     "metadata": {},
     "output_type": "display_data"
    },
    {
     "data": {
      "application/vnd.jupyter.widget-view+json": {
       "model_id": "",
       "version_major": 2,
       "version_minor": 0
      },
      "text/plain": [
       "FloatProgress(value=0.0, bar_style='info', description='Progress:', layout=Layout(height='25px', width='50%'),…"
      ]
     },
     "metadata": {},
     "output_type": "display_data"
    },
    {
     "name": "stdout",
     "output_type": "stream",
     "text": [
      "root\n",
      " |-- tconst: string (nullable = true)\n",
      " |-- ordering: string (nullable = true)\n",
      " |-- nconst: string (nullable = true)\n",
      " |-- category: string (nullable = true)\n",
      " |-- job: string (nullable = true)\n",
      " |-- characters: string (nullable = true)"
     ]
    }
   ],
   "source": [
    "movie_actors.printSchema()"
   ]
  },
  {
   "cell_type": "markdown",
   "id": "ab005717",
   "metadata": {},
   "source": [
    "Display the first 10 rows below"
   ]
  },
  {
   "cell_type": "code",
   "execution_count": 14,
   "id": "4d3ed150",
   "metadata": {
    "scrolled": true
   },
   "outputs": [
    {
     "data": {
      "application/vnd.jupyter.widget-view+json": {
       "model_id": "76a40e0bc29d407d9fb2933979d787ec",
       "version_major": 2,
       "version_minor": 0
      },
      "text/plain": [
       "VBox()"
      ]
     },
     "metadata": {},
     "output_type": "display_data"
    },
    {
     "data": {
      "application/vnd.jupyter.widget-view+json": {
       "model_id": "",
       "version_major": 2,
       "version_minor": 0
      },
      "text/plain": [
       "FloatProgress(value=0.0, bar_style='info', description='Progress:', layout=Layout(height='25px', width='50%'),…"
      ]
     },
     "metadata": {},
     "output_type": "display_data"
    },
    {
     "name": "stdout",
     "output_type": "stream",
     "text": [
      "+---------+--------+---------+---------------+--------------------+-----------+\n",
      "|   tconst|ordering|   nconst|       category|                 job| characters|\n",
      "+---------+--------+---------+---------------+--------------------+-----------+\n",
      "|tt0000001|       1|nm1588970|           self|                  \\N|[\"Herself\"]|\n",
      "|tt0000001|       2|nm0005690|       director|                  \\N|         \\N|\n",
      "|tt0000001|       3|nm0374658|cinematographer|director of photo...|         \\N|\n",
      "|tt0000002|       1|nm0721526|       director|                  \\N|         \\N|\n",
      "|tt0000002|       2|nm1335271|       composer|                  \\N|         \\N|\n",
      "|tt0000003|       1|nm0721526|       director|                  \\N|         \\N|\n",
      "|tt0000003|       2|nm5442194|       producer|            producer|         \\N|\n",
      "|tt0000003|       3|nm1335271|       composer|                  \\N|         \\N|\n",
      "|tt0000003|       4|nm5442200|         editor|                  \\N|         \\N|\n",
      "|tt0000004|       1|nm0721526|       director|                  \\N|         \\N|\n",
      "+---------+--------+---------+---------------+--------------------+-----------+\n",
      "only showing top 10 rows"
     ]
    }
   ],
   "source": [
    "movie_actors.select(\"tconst\", \"ordering\",\"nconst\",\"category\",\"job\",\"characters\").show(10)"
   ]
  },
  {
   "cell_type": "markdown",
   "id": "f39a0a96",
   "metadata": {},
   "source": [
    "## Movie Ratings\n"
   ]
  },
  {
   "cell_type": "markdown",
   "id": "ff337803",
   "metadata": {},
   "source": [
    "Display the schema below:"
   ]
  },
  {
   "cell_type": "code",
   "execution_count": 15,
   "id": "7c597350",
   "metadata": {},
   "outputs": [
    {
     "data": {
      "application/vnd.jupyter.widget-view+json": {
       "model_id": "bc6a5ac876b84b4a9fe9a8b98988adb3",
       "version_major": 2,
       "version_minor": 0
      },
      "text/plain": [
       "VBox()"
      ]
     },
     "metadata": {},
     "output_type": "display_data"
    },
    {
     "data": {
      "application/vnd.jupyter.widget-view+json": {
       "model_id": "",
       "version_major": 2,
       "version_minor": 0
      },
      "text/plain": [
       "FloatProgress(value=0.0, bar_style='info', description='Progress:', layout=Layout(height='25px', width='50%'),…"
      ]
     },
     "metadata": {},
     "output_type": "display_data"
    },
    {
     "name": "stdout",
     "output_type": "stream",
     "text": [
      "root\n",
      " |-- tconst: string (nullable = true)\n",
      " |-- averageRating: string (nullable = true)\n",
      " |-- numVotes: string (nullable = true)"
     ]
    }
   ],
   "source": [
    "movie_ratings.printSchema()"
   ]
  },
  {
   "cell_type": "markdown",
   "id": "8c4ec29b",
   "metadata": {},
   "source": [
    "Display the first 10 rows in a descending order by the number of votes"
   ]
  },
  {
   "cell_type": "code",
   "execution_count": 16,
   "id": "bec882a6",
   "metadata": {},
   "outputs": [
    {
     "data": {
      "application/vnd.jupyter.widget-view+json": {
       "model_id": "d294859a6d004e5cbc96d8e6b5f85d27",
       "version_major": 2,
       "version_minor": 0
      },
      "text/plain": [
       "VBox()"
      ]
     },
     "metadata": {},
     "output_type": "display_data"
    },
    {
     "data": {
      "application/vnd.jupyter.widget-view+json": {
       "model_id": "",
       "version_major": 2,
       "version_minor": 0
      },
      "text/plain": [
       "FloatProgress(value=0.0, bar_style='info', description='Progress:', layout=Layout(height='25px', width='50%'),…"
      ]
     },
     "metadata": {},
     "output_type": "display_data"
    },
    {
     "name": "stdout",
     "output_type": "stream",
     "text": [
      "+---------+-------------+--------+\n",
      "|   tconst|averageRating|numVotes|\n",
      "+---------+-------------+--------+\n",
      "|tt7430722|          6.8|    9999|\n",
      "|tt4445154|          8.1|    9997|\n",
      "|tt2229907|          6.3|    9996|\n",
      "|tt0294097|          8.0|    9994|\n",
      "|tt0264734|          6.5|    9993|\n",
      "|tt8860450|          6.3|    9991|\n",
      "|tt2032572|          5.2|    9991|\n",
      "|tt7201150|          8.5|     999|\n",
      "|tt7508752|          7.9|     999|\n",
      "|tt4082482|          6.8|     999|\n",
      "+---------+-------------+--------+\n",
      "only showing top 10 rows"
     ]
    }
   ],
   "source": [
    "from pyspark.sql.functions import col\n",
    "movie_ratings.select(\"tconst\", \"averageRating\",\"numVotes\").sort(col(\"numVotes\").desc()).show(10)"
   ]
  },
  {
   "cell_type": "markdown",
   "id": "f292a7c7",
   "metadata": {},
   "source": [
    "# Overview of Data\n"
   ]
  },
  {
   "cell_type": "markdown",
   "id": "bf7b7b03",
   "metadata": {},
   "source": [
    "Display the number of rows and columns in each dataFrame object."
   ]
  },
  {
   "cell_type": "code",
   "execution_count": 17,
   "id": "8c543835",
   "metadata": {},
   "outputs": [
    {
     "data": {
      "application/vnd.jupyter.widget-view+json": {
       "model_id": "149676daf3d546deb3fa73485c261a9a",
       "version_major": 2,
       "version_minor": 0
      },
      "text/plain": [
       "VBox()"
      ]
     },
     "metadata": {},
     "output_type": "display_data"
    },
    {
     "data": {
      "application/vnd.jupyter.widget-view+json": {
       "model_id": "",
       "version_major": 2,
       "version_minor": 0
      },
      "text/plain": [
       "FloatProgress(value=0.0, bar_style='info', description='Progress:', layout=Layout(height='25px', width='50%'),…"
      ]
     },
     "metadata": {},
     "output_type": "display_data"
    },
    {
     "name": "stdout",
     "output_type": "stream",
     "text": [
      "Number of columns in Actors table: 6\n",
      "Number of rows in Actors table: 9706922\n",
      "\n",
      "Number of columns in Genres table: 9\n",
      "Number of rows in Genres table: 6321302\n",
      "\n",
      "Number of columns in Movie Actors table: 6\n",
      "Number of rows in Movie Actors table: 36468817\n",
      "\n",
      "Number of columns in Movie Ratings table: 3\n",
      "Number of rows in Movie Ratings table: 993153"
     ]
    }
   ],
   "source": [
    "print(\"Number of columns in Actors table:\",len(actors.columns))\n",
    "print(\"Number of rows in Actors table:\",actors.count())\n",
    "print(\"\")\n",
    "print(\"Number of columns in Genres table:\",len(genres.columns))\n",
    "print(\"Number of rows in Genres table:\",genres.count())\n",
    "print(\"\")\n",
    "print(\"Number of columns in Movie Actors table:\",len(movie_actors.columns))\n",
    "print(\"Number of rows in Movie Actors table:\",movie_actors.count())\n",
    "print(\"\")\n",
    "print(\"Number of columns in Movie Ratings table:\",len(movie_ratings.columns))\n",
    "print(\"Number of rows in Movie Ratings table:\",movie_ratings.count())"
   ]
  },
  {
   "cell_type": "markdown",
   "id": "84312f13",
   "metadata": {},
   "source": [
    "# PART 2 - Analyzing Genres\n"
   ]
  },
  {
   "cell_type": "markdown",
   "id": "9242ac0a",
   "metadata": {},
   "source": [
    "Let's now answer this question: how many unique genres are represented in this dataset?\n",
    "\n",
    "Essentially, we have the genres per movie as a list - this is useful to quickly see what each movie might be represented as but it is difficult to easily answer questions such as:\n",
    "\n",
    "* How many movies are categorized as Comedy, for instance?\n",
    "* What are the top 20 most popular genres available?"
   ]
  },
  {
   "cell_type": "markdown",
   "id": "f1804435",
   "metadata": {},
   "source": [
    "## Association Table\n",
    "\n",
    "We need to \"break out\" these genres from the tconst? One common approach to take is to build an association table mapping a single tconst multiple times to each distinct genre.\n",
    "\n",
    "For instance, given the following:\n",
    "\n",
    "\n",
    "| tconst   | titleType  |genres |\n",
    "|----------|------------|-------|\n",
    "| abcd123  | XXX        |a,b,c  |\n",
    "\n",
    "We would like to derive something like:\n",
    "\n",
    "| tconst   |  titleType |genre |\n",
    "|----------|------------|------|\n",
    "| abcd123  | XXX        |a     |\n",
    "| abcd123  | XXX        |b     |\n",
    "| abcd123  | XXX        |c     |\n",
    "\n",
    "\n",
    "What this does is allow us to then perform a myriad of rollups and other analysis on this association table which can aid us in answering the questions asked above.\n",
    "\n",
    "Implement the code necessary to derive the table described from the data set"
   ]
  },
  {
   "cell_type": "code",
   "execution_count": 18,
   "id": "bc14e296",
   "metadata": {},
   "outputs": [
    {
     "data": {
      "application/vnd.jupyter.widget-view+json": {
       "model_id": "82c8a1bc9bdb45cb99e1c8a7f1f9c827",
       "version_major": 2,
       "version_minor": 0
      },
      "text/plain": [
       "VBox()"
      ]
     },
     "metadata": {},
     "output_type": "display_data"
    },
    {
     "data": {
      "application/vnd.jupyter.widget-view+json": {
       "model_id": "",
       "version_major": 2,
       "version_minor": 0
      },
      "text/plain": [
       "FloatProgress(value=0.0, bar_style='info', description='Progress:', layout=Layout(height='25px', width='50%'),…"
      ]
     },
     "metadata": {},
     "output_type": "display_data"
    },
    {
     "name": "stdout",
     "output_type": "stream",
     "text": [
      "+---------+---------+--------------------+\n",
      "|   tconst|titleType|              genres|\n",
      "+---------+---------+--------------------+\n",
      "|tt0000001|    short|   Documentary,Short|\n",
      "|tt0000002|    short|     Animation,Short|\n",
      "|tt0000003|    short|Animation,Comedy,...|\n",
      "|tt0000004|    short|     Animation,Short|\n",
      "|tt0000005|    short|        Comedy,Short|\n",
      "+---------+---------+--------------------+\n",
      "only showing top 5 rows"
     ]
    }
   ],
   "source": [
    "genres.select(\"tconst\",\"titleType\",\"genres\").show(5)"
   ]
  },
  {
   "cell_type": "markdown",
   "id": "2bdeab6d",
   "metadata": {},
   "source": [
    "Display the first 10 rows of your association table below"
   ]
  },
  {
   "cell_type": "code",
   "execution_count": 19,
   "id": "2622a0e2",
   "metadata": {},
   "outputs": [
    {
     "data": {
      "application/vnd.jupyter.widget-view+json": {
       "model_id": "2c54ff494caa4a5ca5f2188eba7cfad4",
       "version_major": 2,
       "version_minor": 0
      },
      "text/plain": [
       "VBox()"
      ]
     },
     "metadata": {},
     "output_type": "display_data"
    },
    {
     "data": {
      "application/vnd.jupyter.widget-view+json": {
       "model_id": "",
       "version_major": 2,
       "version_minor": 0
      },
      "text/plain": [
       "FloatProgress(value=0.0, bar_style='info', description='Progress:', layout=Layout(height='25px', width='50%'),…"
      ]
     },
     "metadata": {},
     "output_type": "display_data"
    },
    {
     "name": "stdout",
     "output_type": "stream",
     "text": [
      "+---------+---------+-----------+\n",
      "|   tconst|titleType|     genres|\n",
      "+---------+---------+-----------+\n",
      "|tt0000001|    short|Documentary|\n",
      "|tt0000001|    short|      Short|\n",
      "|tt0000002|    short|  Animation|\n",
      "|tt0000002|    short|      Short|\n",
      "|tt0000003|    short|  Animation|\n",
      "|tt0000003|    short|     Comedy|\n",
      "|tt0000003|    short|    Romance|\n",
      "|tt0000004|    short|  Animation|\n",
      "|tt0000004|    short|      Short|\n",
      "|tt0000005|    short|     Comedy|\n",
      "+---------+---------+-----------+\n",
      "only showing top 10 rows"
     ]
    }
   ],
   "source": [
    "from pyspark.sql.functions import split, col, explode\n",
    "genres = genres.withColumn('genres',explode(split('genres',\",\")))\n",
    "genres.select(\"tconst\",\"titleType\",\"genres\").show(10)"
   ]
  },
  {
   "cell_type": "markdown",
   "id": "b1cbcd3a",
   "metadata": {},
   "source": [
    "## Total Unique Genres\n"
   ]
  },
  {
   "cell_type": "markdown",
   "id": "409b3d8d",
   "metadata": {},
   "source": [
    "**What is the total number of unique genres available in the movie category?**"
   ]
  },
  {
   "cell_type": "code",
   "execution_count": 20,
   "id": "d21aa8e0",
   "metadata": {},
   "outputs": [
    {
     "data": {
      "application/vnd.jupyter.widget-view+json": {
       "model_id": "b2bc70f70ac240b58973b678eedb01c8",
       "version_major": 2,
       "version_minor": 0
      },
      "text/plain": [
       "VBox()"
      ]
     },
     "metadata": {},
     "output_type": "display_data"
    },
    {
     "data": {
      "application/vnd.jupyter.widget-view+json": {
       "model_id": "",
       "version_major": 2,
       "version_minor": 0
      },
      "text/plain": [
       "FloatProgress(value=0.0, bar_style='info', description='Progress:', layout=Layout(height='25px', width='50%'),…"
      ]
     },
     "metadata": {},
     "output_type": "display_data"
    },
    {
     "name": "stdout",
     "output_type": "stream",
     "text": [
      "29"
     ]
    }
   ],
   "source": [
    "genres.select(\"genres\").distinct().count()"
   ]
  },
  {
   "cell_type": "markdown",
   "id": "44710243",
   "metadata": {},
   "source": [
    "**What are the unique genres available?**"
   ]
  },
  {
   "cell_type": "code",
   "execution_count": 21,
   "id": "2ff2ba9b",
   "metadata": {},
   "outputs": [
    {
     "data": {
      "application/vnd.jupyter.widget-view+json": {
       "model_id": "fbb04819d3d445f1b227d3050ee16743",
       "version_major": 2,
       "version_minor": 0
      },
      "text/plain": [
       "VBox()"
      ]
     },
     "metadata": {},
     "output_type": "display_data"
    },
    {
     "data": {
      "application/vnd.jupyter.widget-view+json": {
       "model_id": "",
       "version_major": 2,
       "version_minor": 0
      },
      "text/plain": [
       "FloatProgress(value=0.0, bar_style='info', description='Progress:', layout=Layout(height='25px', width='50%'),…"
      ]
     },
     "metadata": {},
     "output_type": "display_data"
    },
    {
     "name": "stdout",
     "output_type": "stream",
     "text": [
      "+-----------+\n",
      "|     genres|\n",
      "+-----------+\n",
      "|    Mystery|\n",
      "|    Musical|\n",
      "|      Sport|\n",
      "|     Action|\n",
      "|  Talk-Show|\n",
      "|    Romance|\n",
      "|   Thriller|\n",
      "|         \\N|\n",
      "| Reality-TV|\n",
      "|     Family|\n",
      "|    Fantasy|\n",
      "|    History|\n",
      "|  Animation|\n",
      "|  Film-Noir|\n",
      "|      Short|\n",
      "|     Sci-Fi|\n",
      "|       News|\n",
      "|      Drama|\n",
      "|Documentary|\n",
      "|    Western|\n",
      "+-----------+\n",
      "only showing top 20 rows"
     ]
    }
   ],
   "source": [
    "genres.select(\"genres\").distinct().show()"
   ]
  },
  {
   "cell_type": "markdown",
   "id": "6ae5b52d",
   "metadata": {},
   "source": [
    "**Oops! Something is off!**"
   ]
  },
  {
   "cell_type": "code",
   "execution_count": 22,
   "id": "bf217c1d",
   "metadata": {},
   "outputs": [
    {
     "data": {
      "application/vnd.jupyter.widget-view+json": {
       "model_id": "3d08d10184ad434089a294b41d849eaf",
       "version_major": 2,
       "version_minor": 0
      },
      "text/plain": [
       "VBox()"
      ]
     },
     "metadata": {},
     "output_type": "display_data"
    },
    {
     "data": {
      "application/vnd.jupyter.widget-view+json": {
       "model_id": "",
       "version_major": 2,
       "version_minor": 0
      },
      "text/plain": [
       "FloatProgress(value=0.0, bar_style='info', description='Progress:', layout=Layout(height='25px', width='50%'),…"
      ]
     },
     "metadata": {},
     "output_type": "display_data"
    },
    {
     "name": "stdout",
     "output_type": "stream",
     "text": [
      "+-----------+\n",
      "|     genres|\n",
      "+-----------+\n",
      "|    Mystery|\n",
      "|    Musical|\n",
      "|      Sport|\n",
      "|     Action|\n",
      "|  Talk-Show|\n",
      "|    Romance|\n",
      "|   Thriller|\n",
      "| Reality-TV|\n",
      "|     Family|\n",
      "|    Fantasy|\n",
      "|    History|\n",
      "|  Animation|\n",
      "|  Film-Noir|\n",
      "|      Short|\n",
      "|     Sci-Fi|\n",
      "|       News|\n",
      "|      Drama|\n",
      "|Documentary|\n",
      "|    Western|\n",
      "|     Comedy|\n",
      "+-----------+\n",
      "only showing top 20 rows"
     ]
    }
   ],
   "source": [
    "nll = '\\\\N'\n",
    "genres = genres.filter(col(\"genres\") != nll)\n",
    "genres.select(\"genres\").distinct().show(20)"
   ]
  },
  {
   "cell_type": "code",
   "execution_count": 23,
   "id": "c020fcdc",
   "metadata": {},
   "outputs": [
    {
     "data": {
      "application/vnd.jupyter.widget-view+json": {
       "model_id": "1fe5cf02f51f470595afdcf9ab9a6af3",
       "version_major": 2,
       "version_minor": 0
      },
      "text/plain": [
       "VBox()"
      ]
     },
     "metadata": {},
     "output_type": "display_data"
    },
    {
     "data": {
      "application/vnd.jupyter.widget-view+json": {
       "model_id": "",
       "version_major": 2,
       "version_minor": 0
      },
      "text/plain": [
       "FloatProgress(value=0.0, bar_style='info', description='Progress:', layout=Layout(height='25px', width='50%'),…"
      ]
     },
     "metadata": {},
     "output_type": "display_data"
    },
    {
     "name": "stdout",
     "output_type": "stream",
     "text": [
      "28"
     ]
    }
   ],
   "source": [
    "nll = '\\\\N'\n",
    "genres.select(\"genres\").distinct().count()"
   ]
  },
  {
   "cell_type": "markdown",
   "id": "48a25250",
   "metadata": {},
   "source": [
    "## Top Genres by Movies\n",
    "\n",
    "Now let's find the highest rated genres in this dataset by rolling up genres."
   ]
  },
  {
   "cell_type": "markdown",
   "id": "54a60af7",
   "metadata": {},
   "source": [
    "### Average Rating / Genre"
   ]
  },
  {
   "cell_type": "markdown",
   "id": "49f95e93",
   "metadata": {},
   "source": [
    "So now, let's unroll our distinct count a bit and display the per average rating value of per genre.\n",
    "\n",
    "The expected output should be:\n",
    "\n",
    "| genre | averageRating |\n",
    "|-------------|------------|\n",
    "| a     | 8.5         |\n",
    "| b     | 6.3         |\n",
    "| c     | 7.2         |\n",
    "\n",
    "Or something to that effect."
   ]
  },
  {
   "cell_type": "markdown",
   "id": "4d1a4404",
   "metadata": {},
   "source": [
    "First, let's join our two dataframes (movie ratings and genres) by tconst"
   ]
  },
  {
   "cell_type": "code",
   "execution_count": 24,
   "id": "dd96c60f",
   "metadata": {
    "scrolled": true
   },
   "outputs": [
    {
     "data": {
      "application/vnd.jupyter.widget-view+json": {
       "model_id": "ccac8376f4b74c9eaee0e4067157c5cc",
       "version_major": 2,
       "version_minor": 0
      },
      "text/plain": [
       "VBox()"
      ]
     },
     "metadata": {},
     "output_type": "display_data"
    },
    {
     "data": {
      "application/vnd.jupyter.widget-view+json": {
       "model_id": "",
       "version_major": 2,
       "version_minor": 0
      },
      "text/plain": [
       "FloatProgress(value=0.0, bar_style='info', description='Progress:', layout=Layout(height='25px', width='50%'),…"
      ]
     },
     "metadata": {},
     "output_type": "display_data"
    },
    {
     "name": "stdout",
     "output_type": "stream",
     "text": [
      "+---------+-------------+\n",
      "|   genres|averageRating|\n",
      "+---------+-------------+\n",
      "|    Drama|          4.2|\n",
      "|    Drama|          4.2|\n",
      "|Biography|          4.1|\n",
      "|    Drama|          4.1|\n",
      "|  History|          4.1|\n",
      "|    Drama|          5.7|\n",
      "|    Drama|          4.6|\n",
      "|  History|          4.6|\n",
      "|Biography|          6.3|\n",
      "|    Drama|          6.3|\n",
      "+---------+-------------+\n",
      "only showing top 10 rows"
     ]
    }
   ],
   "source": [
    "dframe = genres.join(movie_ratings, genres.tconst == movie_ratings.tconst).select(genres[\"genres\"],movie_ratings[\"averageRating\"]).filter((genres.titleType == \"movie\"))\n",
    "dframe.show(10)"
   ]
  },
  {
   "cell_type": "markdown",
   "id": "6b8f3501",
   "metadata": {},
   "source": [
    "Now, let's aggregate along the averageRating column to get a resultant dataframe that displays average rating per genre."
   ]
  },
  {
   "cell_type": "code",
   "execution_count": 28,
   "id": "c4311581",
   "metadata": {},
   "outputs": [
    {
     "data": {
      "application/vnd.jupyter.widget-view+json": {
       "model_id": "abb67f9b10a34e30bb39f49272f975b7",
       "version_major": 2,
       "version_minor": 0
      },
      "text/plain": [
       "VBox()"
      ]
     },
     "metadata": {},
     "output_type": "display_data"
    },
    {
     "data": {
      "application/vnd.jupyter.widget-view+json": {
       "model_id": "",
       "version_major": 2,
       "version_minor": 0
      },
      "text/plain": [
       "FloatProgress(value=0.0, bar_style='info', description='Progress:', layout=Layout(height='25px', width='50%'),…"
      ]
     },
     "metadata": {},
     "output_type": "display_data"
    },
    {
     "name": "stdout",
     "output_type": "stream",
     "text": [
      "+-----------+------------------+\n",
      "|     genres|        avg_rating|\n",
      "+-----------+------------------+\n",
      "|    Mystery|5.9404375359815775|\n",
      "|    Musical|6.2032460545193695|\n",
      "|     Action| 5.718734069668651|\n",
      "|      Sport| 6.600145190562611|\n",
      "|  Talk-Show|               5.8|\n",
      "|    Romance|6.1257141803973605|\n",
      "|   Thriller| 5.625967566447333|\n",
      "| Reality-TV| 6.379310344827585|\n",
      "|     Family| 6.250560452715201|\n",
      "|    Fantasy| 5.924820762833381|\n",
      "|    History| 6.822718115605146|\n",
      "|  Animation| 6.326203750633555|\n",
      "|  Film-Noir| 6.636246786632392|\n",
      "|      Short|              7.26|\n",
      "|     Sci-Fi| 5.325150008571917|\n",
      "|       News| 7.200916030534348|\n",
      "|      Drama| 6.288080210387901|\n",
      "|Documentary|7.2454697986577195|\n",
      "|    Western| 5.948970989337961|\n",
      "|     Comedy| 5.941363108004128|\n",
      "+-----------+------------------+\n",
      "only showing top 20 rows"
     ]
    }
   ],
   "source": [
    "from pyspark.sql.functions import avg, mean, count, sum, col, max\n",
    "dframe.groupBy(\"genres\").agg(\n",
    "    mean(\"averageRating\").alias(\"avg_rating\")\n",
    ").show()"
   ]
  },
  {
   "cell_type": "markdown",
   "id": "0b7be021",
   "metadata": {},
   "source": [
    "### Horizontal Bar Chart of Top Genres\n",
    "\n",
    "With this data available, let us now build a barchart of all genres \n",
    "\n",
    "**HINT**: don't forget about the matplotlib magic!\n",
    "\n",
    "```\n",
    "%matplot plt\n",
    "```"
   ]
  },
  {
   "cell_type": "code",
   "execution_count": null,
   "id": "409520c3",
   "metadata": {},
   "outputs": [],
   "source": [
    "df = df.groupBy(\"genres\").agg(mean(\"averageRating\").alias(\"avg_rating\"))"
   ]
  },
  {
   "cell_type": "code",
   "execution_count": 28,
   "id": "5a954cce",
   "metadata": {},
   "outputs": [
    {
     "data": {
      "application/vnd.jupyter.widget-view+json": {
       "model_id": "cc27186c2cea4ae89368c2a0027da75c",
       "version_major": 2,
       "version_minor": 0
      },
      "text/plain": [
       "VBox()"
      ]
     },
     "metadata": {},
     "output_type": "display_data"
    },
    {
     "data": {
      "application/vnd.jupyter.widget-view+json": {
       "model_id": "",
       "version_major": 2,
       "version_minor": 0
      },
      "text/plain": [
       "FloatProgress(value=0.0, bar_style='info', description='Progress:', layout=Layout(height='25px', width='50%'),…"
      ]
     },
     "metadata": {},
     "output_type": "display_data"
    },
    {
     "data": {
      "image/png": "[encoded data removed]",
      "text/plain": [
       "<IPython.core.display.Image object>"
      ]
     },
     "metadata": {},
     "output_type": "display_data"
    }
   ],
   "source": [
    "import matplotlib.pyplot as plt\n",
    "df=df.sort(col(\"avg_rating\").asc())\n",
    "df.toPandas().plot.barh(\"genres\",\"avg_rating\",color ='#9A0EEA',figsize=(12,7))\n",
    "plt.title(\"Top Genres in the Movie Category\")\n",
    "plt.ylabel(\"Genre\")\n",
    "plt.xlabel(\"Average Rating\")\n",
    "plt.xlim([5, 7.5]) \n",
    "%matplot plt"
   ]
  },
  {
   "cell_type": "markdown",
   "id": "98e9ed15",
   "metadata": {},
   "source": [
    "## PART 3 - Analyzing Job Categories\n"
   ]
  },
  {
   "cell_type": "markdown",
   "id": "69d2f406",
   "metadata": {},
   "source": [
    "## Total Unique Job Categories"
   ]
  },
  {
   "cell_type": "markdown",
   "id": "936059a7",
   "metadata": {},
   "source": [
    "**What is the total number of unique job categories?**"
   ]
  },
  {
   "cell_type": "code",
   "execution_count": 29,
   "id": "b6c7a7dd",
   "metadata": {},
   "outputs": [
    {
     "data": {
      "application/vnd.jupyter.widget-view+json": {
       "model_id": "49cbb337eb8e4f108bacc67b2524a544",
       "version_major": 2,
       "version_minor": 0
      },
      "text/plain": [
       "VBox()"
      ]
     },
     "metadata": {},
     "output_type": "display_data"
    },
    {
     "data": {
      "application/vnd.jupyter.widget-view+json": {
       "model_id": "",
       "version_major": 2,
       "version_minor": 0
      },
      "text/plain": [
       "FloatProgress(value=0.0, bar_style='info', description='Progress:', layout=Layout(height='25px', width='50%'),…"
      ]
     },
     "metadata": {},
     "output_type": "display_data"
    },
    {
     "name": "stdout",
     "output_type": "stream",
     "text": [
      "+---------+---------------+\n",
      "|   tconst|       category|\n",
      "+---------+---------------+\n",
      "|tt0000001|           self|\n",
      "|tt0000001|       director|\n",
      "|tt0000001|cinematographer|\n",
      "|tt0000002|       director|\n",
      "|tt0000002|       composer|\n",
      "+---------+---------------+\n",
      "only showing top 5 rows"
     ]
    }
   ],
   "source": [
    "movie_actors.select(\"tconst\",\"category\").show(5)"
   ]
  },
  {
   "cell_type": "code",
   "execution_count": 30,
   "id": "e43dd34e",
   "metadata": {},
   "outputs": [
    {
     "data": {
      "application/vnd.jupyter.widget-view+json": {
       "model_id": "de1636835d284ee69efb53239f32d5a8",
       "version_major": 2,
       "version_minor": 0
      },
      "text/plain": [
       "VBox()"
      ]
     },
     "metadata": {},
     "output_type": "display_data"
    },
    {
     "data": {
      "application/vnd.jupyter.widget-view+json": {
       "model_id": "",
       "version_major": 2,
       "version_minor": 0
      },
      "text/plain": [
       "FloatProgress(value=0.0, bar_style='info', description='Progress:', layout=Layout(height='25px', width='50%'),…"
      ]
     },
     "metadata": {},
     "output_type": "display_data"
    },
    {
     "name": "stdout",
     "output_type": "stream",
     "text": [
      "12"
     ]
    }
   ],
   "source": [
    "movie_actors.select(\"category\").distinct().count()"
   ]
  },
  {
   "cell_type": "markdown",
   "id": "37250cc8",
   "metadata": {},
   "source": [
    "**What are the unique job categories available?**"
   ]
  },
  {
   "cell_type": "code",
   "execution_count": 31,
   "id": "2eb1aeea",
   "metadata": {},
   "outputs": [
    {
     "data": {
      "application/vnd.jupyter.widget-view+json": {
       "model_id": "d08372072e784c7db7ed931843ce769e",
       "version_major": 2,
       "version_minor": 0
      },
      "text/plain": [
       "VBox()"
      ]
     },
     "metadata": {},
     "output_type": "display_data"
    },
    {
     "data": {
      "application/vnd.jupyter.widget-view+json": {
       "model_id": "",
       "version_major": 2,
       "version_minor": 0
      },
      "text/plain": [
       "FloatProgress(value=0.0, bar_style='info', description='Progress:', layout=Layout(height='25px', width='50%'),…"
      ]
     },
     "metadata": {},
     "output_type": "display_data"
    },
    {
     "name": "stdout",
     "output_type": "stream",
     "text": [
      "+-------------------+\n",
      "|           category|\n",
      "+-------------------+\n",
      "|            actress|\n",
      "|           producer|\n",
      "|production_designer|\n",
      "|             writer|\n",
      "|              actor|\n",
      "|    cinematographer|\n",
      "|      archive_sound|\n",
      "|    archive_footage|\n",
      "|               self|\n",
      "|             editor|\n",
      "|           composer|\n",
      "|           director|\n",
      "+-------------------+"
     ]
    }
   ],
   "source": [
    "movie_actors.select(\"category\").distinct().show()"
   ]
  },
  {
   "cell_type": "markdown",
   "id": "aed9454e",
   "metadata": {},
   "source": [
    "## Top Job Categories\n"
   ]
  },
  {
   "cell_type": "markdown",
   "id": "f347e1fb",
   "metadata": {},
   "source": [
    "Now let's find the top job categories in this dataset by rolling up categories."
   ]
  },
  {
   "cell_type": "markdown",
   "id": "f8578d29",
   "metadata": {},
   "source": [
    "### Counts of Titles / Job Category"
   ]
  },
  {
   "cell_type": "markdown",
   "id": "472ce651",
   "metadata": {},
   "source": [
    "The expected output should be:\n",
    "\n",
    "| category | count |\n",
    "|-------------|------------|\n",
    "| a     | 15         |\n",
    "| b     | 2          |\n",
    "| c     | 45          |\n",
    "\n",
    "Or something to that effect."
   ]
  },
  {
   "cell_type": "code",
   "execution_count": 32,
   "id": "5091539a",
   "metadata": {},
   "outputs": [
    {
     "data": {
      "application/vnd.jupyter.widget-view+json": {
       "model_id": "ecaf2e90a41d4db49ee1d92b9112d750",
       "version_major": 2,
       "version_minor": 0
      },
      "text/plain": [
       "VBox()"
      ]
     },
     "metadata": {},
     "output_type": "display_data"
    },
    {
     "data": {
      "application/vnd.jupyter.widget-view+json": {
       "model_id": "",
       "version_major": 2,
       "version_minor": 0
      },
      "text/plain": [
       "FloatProgress(value=0.0, bar_style='info', description='Progress:', layout=Layout(height='25px', width='50%'),…"
      ]
     },
     "metadata": {},
     "output_type": "display_data"
    },
    {
     "name": "stdout",
     "output_type": "stream",
     "text": [
      "+-------------------+-------+\n",
      "|           category|  count|\n",
      "+-------------------+-------+\n",
      "|            actress|6325097|\n",
      "|           producer|2197866|\n",
      "|production_designer| 285924|\n",
      "|             writer|4811596|\n",
      "|              actor|8493701|\n",
      "|    cinematographer|1300404|\n",
      "|      archive_sound|   2143|\n",
      "|    archive_footage| 209035|\n",
      "|               self|6153089|\n",
      "|             editor|1197669|\n",
      "|           composer|1313187|\n",
      "|           director|4179106|\n",
      "+-------------------+-------+"
     ]
    }
   ],
   "source": [
    "movie_actors.groupBy(\"category\").agg(count(\"category\").alias(\"count\")).show()"
   ]
  },
  {
   "cell_type": "markdown",
   "id": "d2dc406b",
   "metadata": {},
   "source": [
    "### Bar Chart of Top Job Categories\n",
    "\n",
    "With this data available, let us now build a barchart of the top 5 categories. \n",
    "\n",
    "**HINT**: don't forget about the matplotlib magic!\n",
    "\n",
    "```\n",
    "%matplot plt\n",
    "```"
   ]
  },
  {
   "cell_type": "code",
   "execution_count": 33,
   "id": "2bd74a25",
   "metadata": {},
   "outputs": [
    {
     "data": {
      "application/vnd.jupyter.widget-view+json": {
       "model_id": "ffc3c88879524e94b3d7716c58685bda",
       "version_major": 2,
       "version_minor": 0
      },
      "text/plain": [
       "VBox()"
      ]
     },
     "metadata": {},
     "output_type": "display_data"
    },
    {
     "data": {
      "application/vnd.jupyter.widget-view+json": {
       "model_id": "",
       "version_major": 2,
       "version_minor": 0
      },
      "text/plain": [
       "FloatProgress(value=0.0, bar_style='info', description='Progress:', layout=Layout(height='25px', width='50%'),…"
      ]
     },
     "metadata": {},
     "output_type": "display_data"
    },
    {
     "name": "stdout",
     "output_type": "stream",
     "text": [
      "+-------------------+-------+\n",
      "|           category|  count|\n",
      "+-------------------+-------+\n",
      "|              actor|8493701|\n",
      "|            actress|6325097|\n",
      "|               self|6153089|\n",
      "|             writer|4811596|\n",
      "|           director|4179106|\n",
      "|           producer|2197866|\n",
      "|           composer|1313187|\n",
      "|    cinematographer|1300404|\n",
      "|             editor|1197669|\n",
      "|production_designer| 285924|\n",
      "|    archive_footage| 209035|\n",
      "|      archive_sound|   2143|\n",
      "+-------------------+-------+"
     ]
    }
   ],
   "source": [
    "df2 = movie_actors.groupBy(\"category\").agg(count(\"category\").alias(\"count\"))\n",
    "df2.sort(col(\"count\").desc()).show()"
   ]
  },
  {
   "cell_type": "code",
   "execution_count": 34,
   "id": "4057045b",
   "metadata": {},
   "outputs": [
    {
     "data": {
      "application/vnd.jupyter.widget-view+json": {
       "model_id": "4ed9e3a77c464f9aabad85240e76c63a",
       "version_major": 2,
       "version_minor": 0
      },
      "text/plain": [
       "VBox()"
      ]
     },
     "metadata": {},
     "output_type": "display_data"
    },
    {
     "data": {
      "application/vnd.jupyter.widget-view+json": {
       "model_id": "",
       "version_major": 2,
       "version_minor": 0
      },
      "text/plain": [
       "FloatProgress(value=0.0, bar_style='info', description='Progress:', layout=Layout(height='25px', width='50%'),…"
      ]
     },
     "metadata": {},
     "output_type": "display_data"
    },
    {
     "data": {
      "image/png": "[encoded data removed]",
      "text/plain": [
       "<IPython.core.display.Image object>"
      ]
     },
     "metadata": {},
     "output_type": "display_data"
    }
   ],
   "source": [
    "import matplotlib.pyplot as plt\n",
    "df3=df2.sort(col(\"count\").desc())\n",
    "df3.toPandas().plot.bar(\"category\",\"count\",color ='orange', width=0.5, figsize=(9,7))\n",
    "plt.title(\"Top Job Categories\")\n",
    "plt.ylabel(\"Count\")\n",
    "plt.xlabel(\"Job Categories\")\n",
    "plt.xlim([-0.5,4.5])\n",
    "plt.ylim([3000000, 9000000]) \n",
    "plt.xticks(rotation=30)\n",
    "%matplot plt"
   ]
  },
  {
   "cell_type": "markdown",
   "id": "fc357339",
   "metadata": {},
   "source": [
    "# PART 4 - Answer to the following questions:"
   ]
  },
  {
   "cell_type": "markdown",
   "id": "10e98956",
   "metadata": {},
   "source": [
    "## 1) Find all the \"movies\" featuring \"Johnny Depp\" and \"Helena Bonham Carter\"."
   ]
  },
  {
   "cell_type": "markdown",
   "id": "769a2530",
   "metadata": {},
   "source": [
    "First join actors, genres, and movie actors on each other"
   ]
  },
  {
   "cell_type": "code",
   "execution_count": 37,
   "id": "495bbdb6",
   "metadata": {},
   "outputs": [
    {
     "data": {
      "application/vnd.jupyter.widget-view+json": {
       "model_id": "282e2bb2b93e430f9a865d6e2fcd2105",
       "version_major": 2,
       "version_minor": 0
      },
      "text/plain": [
       "VBox()"
      ]
     },
     "metadata": {},
     "output_type": "display_data"
    },
    {
     "data": {
      "application/vnd.jupyter.widget-view+json": {
       "model_id": "",
       "version_major": 2,
       "version_minor": 0
      },
      "text/plain": [
       "FloatProgress(value=0.0, bar_style='info', description='Progress:', layout=Layout(height='25px', width='50%'),…"
      ]
     },
     "metadata": {},
     "output_type": "display_data"
    },
    {
     "name": "stdout",
     "output_type": "stream",
     "text": [
      "root\n",
      " |-- tconst: string (nullable = true)\n",
      " |-- titleType: string (nullable = true)\n",
      " |-- primaryTitle: string (nullable = true)\n",
      " |-- originalTitle: string (nullable = true)\n",
      " |-- isAdult: string (nullable = true)\n",
      " |-- startYear: string (nullable = true)\n",
      " |-- endYear: string (nullable = true)\n",
      " |-- runtimeMinutes: string (nullable = true)\n",
      " |-- genres: string (nullable = true)\n",
      "\n",
      "root\n",
      " |-- nconst: string (nullable = true)\n",
      " |-- primaryName: string (nullable = true)\n",
      " |-- birthYear: string (nullable = true)\n",
      " |-- deathYear: string (nullable = true)\n",
      " |-- primaryProfession: string (nullable = true)\n",
      " |-- knownForTitles: string (nullable = true)\n",
      "\n",
      "root\n",
      " |-- tconst: string (nullable = true)\n",
      " |-- ordering: string (nullable = true)\n",
      " |-- nconst: string (nullable = true)\n",
      " |-- category: string (nullable = true)\n",
      " |-- job: string (nullable = true)\n",
      " |-- characters: string (nullable = true)"
     ]
    }
   ],
   "source": [
    "genres.printSchema()\n",
    "actors.printSchema()\n",
    "movie_actors.printSchema()"
   ]
  },
  {
   "cell_type": "code",
   "execution_count": 38,
   "id": "5162f545",
   "metadata": {
    "scrolled": true
   },
   "outputs": [
    {
     "data": {
      "application/vnd.jupyter.widget-view+json": {
       "model_id": "9b2db3f7cc8c4d829092b94de3c13033",
       "version_major": 2,
       "version_minor": 0
      },
      "text/plain": [
       "VBox()"
      ]
     },
     "metadata": {},
     "output_type": "display_data"
    },
    {
     "data": {
      "application/vnd.jupyter.widget-view+json": {
       "model_id": "",
       "version_major": 2,
       "version_minor": 0
      },
      "text/plain": [
       "FloatProgress(value=0.0, bar_style='info', description='Progress:', layout=Layout(height='25px', width='50%'),…"
      ]
     },
     "metadata": {},
     "output_type": "display_data"
    }
   ],
   "source": [
    "join1 = actors.join(movie_actors, on=\"nconst\",how=\"inner\").join(genres, on=\"tconst\",how=\"inner\")\n",
    "join1 = join1.filter((join1.titleType == \"movie\")&  col(\"primaryTitle\").isNotNull())\n",
    "data1 = join1.select(\"primaryTitle\").filter(join1.primaryName==\"Johnny Depp\")\n",
    "data2 = join1.select(\"primaryTitle\").filter(join1.primaryName==\"Helena Bonham Carter\")\n"
   ]
  },
  {
   "cell_type": "code",
   "execution_count": 39,
   "id": "b7454bce",
   "metadata": {},
   "outputs": [
    {
     "data": {
      "application/vnd.jupyter.widget-view+json": {
       "model_id": "38c98043566f40b999c6033fd5f8eaec",
       "version_major": 2,
       "version_minor": 0
      },
      "text/plain": [
       "VBox()"
      ]
     },
     "metadata": {},
     "output_type": "display_data"
    },
    {
     "data": {
      "application/vnd.jupyter.widget-view+json": {
       "model_id": "",
       "version_major": 2,
       "version_minor": 0
      },
      "text/plain": [
       "FloatProgress(value=0.0, bar_style='info', description='Progress:', layout=Layout(height='25px', width='50%'),…"
      ]
     },
     "metadata": {},
     "output_type": "display_data"
    },
    {
     "name": "stdout",
     "output_type": "stream",
     "text": [
      "+--------------------+\n",
      "|        primaryTitle|\n",
      "+--------------------+\n",
      "|           From Hell|\n",
      "|Pirates of the Ca...|\n",
      "|        Benny & Joon|\n",
      "|   Finding Neverland|\n",
      "|Scab Vendor: The ...|\n",
      "|              Attica|\n",
      "|       Arizona Dream|\n",
      "|       Sleepy Hollow|\n",
      "|...And They Lived...|\n",
      "|                Hugo|\n",
      "|       The Rum Diary|\n",
      "|            Cry-Baby|\n",
      "|Untitled Don Quix...|\n",
      "|        Corpse Bride|\n",
      "|           Inamorata|\n",
      "|         Yoga Hosers|\n",
      "|    Don Juan DeMarco|\n",
      "|             Ed Wood|\n",
      "|               Rango|\n",
      "|Fear and Loathing...|\n",
      "+--------------------+\n",
      "only showing top 20 rows"
     ]
    }
   ],
   "source": [
    "data1.select(\"primaryTitle\").distinct().show()"
   ]
  },
  {
   "cell_type": "code",
   "execution_count": 40,
   "id": "46be74a7",
   "metadata": {},
   "outputs": [
    {
     "data": {
      "application/vnd.jupyter.widget-view+json": {
       "model_id": "6690f1db4d904743ae877c7ee9ab717b",
       "version_major": 2,
       "version_minor": 0
      },
      "text/plain": [
       "VBox()"
      ]
     },
     "metadata": {},
     "output_type": "display_data"
    },
    {
     "data": {
      "application/vnd.jupyter.widget-view+json": {
       "model_id": "",
       "version_major": 2,
       "version_minor": 0
      },
      "text/plain": [
       "FloatProgress(value=0.0, bar_style='info', description='Progress:', layout=Layout(height='25px', width='50%'),…"
      ]
     },
     "metadata": {},
     "output_type": "display_data"
    },
    {
     "name": "stdout",
     "output_type": "stream",
     "text": [
      "+--------------------+\n",
      "|        primaryTitle|\n",
      "+--------------------+\n",
      "|     The Heart of Me|\n",
      "|  A Room with a View|\n",
      "|Mary Shelley's Fr...|\n",
      "|           Novocaine|\n",
      "|        Enola Holmes|\n",
      "|The Revengers' Co...|\n",
      "|Where Angels Fear...|\n",
      "|   The King's Speech|\n",
      "|        Corpse Bride|\n",
      "|          Cinderella|\n",
      "|     Night Will Fall|\n",
      "|The Theory of Flight|\n",
      "|Tintoretto. A Reb...|\n",
      "|         La maschera|\n",
      "|           Francesco|\n",
      "|The Wings of the ...|\n",
      "|            55 Steps|\n",
      "|         Saint Maize|\n",
      "|        Dark Shadows|\n",
      "|Sgt. Stubby: An A...|\n",
      "+--------------------+\n",
      "only showing top 20 rows"
     ]
    }
   ],
   "source": [
    "data2.select(\"primaryTitle\").distinct().show()"
   ]
  },
  {
   "cell_type": "code",
   "execution_count": 41,
   "id": "7b6a4a87",
   "metadata": {},
   "outputs": [
    {
     "data": {
      "application/vnd.jupyter.widget-view+json": {
       "model_id": "1f2555024ddf480e8d8a55ca3e38ec8d",
       "version_major": 2,
       "version_minor": 0
      },
      "text/plain": [
       "VBox()"
      ]
     },
     "metadata": {},
     "output_type": "display_data"
    },
    {
     "data": {
      "application/vnd.jupyter.widget-view+json": {
       "model_id": "",
       "version_major": 2,
       "version_minor": 0
      },
      "text/plain": [
       "FloatProgress(value=0.0, bar_style='info', description='Progress:', layout=Layout(height='25px', width='50%'),…"
      ]
     },
     "metadata": {},
     "output_type": "display_data"
    }
   ],
   "source": [
    "final_data = data1.join(data2, on=\"primaryTitle\",how=\"inner\")"
   ]
  },
  {
   "cell_type": "markdown",
   "id": "47b7ae72",
   "metadata": {},
   "source": [
    "# ANSWER"
   ]
  },
  {
   "cell_type": "code",
   "execution_count": 42,
   "id": "ce09894e",
   "metadata": {},
   "outputs": [
    {
     "data": {
      "application/vnd.jupyter.widget-view+json": {
       "model_id": "419f3bfb6f2245498a9e872209d3df68",
       "version_major": 2,
       "version_minor": 0
      },
      "text/plain": [
       "VBox()"
      ]
     },
     "metadata": {},
     "output_type": "display_data"
    },
    {
     "data": {
      "application/vnd.jupyter.widget-view+json": {
       "model_id": "",
       "version_major": 2,
       "version_minor": 0
      },
      "text/plain": [
       "FloatProgress(value=0.0, bar_style='info', description='Progress:', layout=Layout(height='25px', width='50%'),…"
      ]
     },
     "metadata": {},
     "output_type": "display_data"
    },
    {
     "name": "stdout",
     "output_type": "stream",
     "text": [
      "+--------------------+\n",
      "|        primaryTitle|\n",
      "+--------------------+\n",
      "|        Corpse Bride|\n",
      "|        Dark Shadows|\n",
      "|Charlie and the C...|\n",
      "|Alice Through the...|\n",
      "|Sweeney Todd: The...|\n",
      "| Alice in Wonderland|\n",
      "+--------------------+"
     ]
    }
   ],
   "source": [
    "final_data.distinct().show()"
   ]
  },
  {
   "cell_type": "markdown",
   "id": "1a84998b",
   "metadata": {},
   "source": [
    "## 2) Find all the \"movies\" featuring \"Brad Pitt\" after 2010.\n"
   ]
  },
  {
   "cell_type": "code",
   "execution_count": 43,
   "id": "8f8355f8",
   "metadata": {},
   "outputs": [
    {
     "data": {
      "application/vnd.jupyter.widget-view+json": {
       "model_id": "2c2b00488bd64c28813ea7bfe4944094",
       "version_major": 2,
       "version_minor": 0
      },
      "text/plain": [
       "VBox()"
      ]
     },
     "metadata": {},
     "output_type": "display_data"
    },
    {
     "data": {
      "application/vnd.jupyter.widget-view+json": {
       "model_id": "",
       "version_major": 2,
       "version_minor": 0
      },
      "text/plain": [
       "FloatProgress(value=0.0, bar_style='info', description='Progress:', layout=Layout(height='25px', width='50%'),…"
      ]
     },
     "metadata": {},
     "output_type": "display_data"
    },
    {
     "name": "stdout",
     "output_type": "stream",
     "text": [
      "+--------------------+---------+\n",
      "|        primaryTitle|startYear|\n",
      "+--------------------+---------+\n",
      "|             Babylon|     2021|\n",
      "|Once Upon a Time ...|     2019|\n",
      "|            Ad Astra|     2019|\n",
      "|         War Machine|     2017|\n",
      "|              Allied|     2016|\n",
      "|       The Big Short|     2015|\n",
      "|          By the Sea|     2015|\n",
      "|                Fury|     2014|\n",
      "|         World War Z|     2013|\n",
      "|    12 Years a Slave|     2013|\n",
      "| Killing Them Softly|     2012|\n",
      "|           Moneyball|     2011|\n",
      "|    The Tree of Life|     2011|\n",
      "+--------------------+---------+"
     ]
    }
   ],
   "source": [
    "nl1 = '\\\\N'\n",
    "df5= genres.distinct().select(\"tconst\", \"primaryTitle\",\"startYear\") \\\n",
    "     .filter ((genres.titleType==\"movie\") & (genres.startYear > \"2010\") & (col(\"startYear\") != nll))\n",
    "df3=movie_actors.distinct().select(\"tconst\",\"category\", \"nconst\") \\\n",
    "    .filter ((movie_actors.category == \"actor\"))\n",
    "df4=actors.distinct().select(\"primaryName\",\"nconst\") \\\n",
    "    .filter ((actors.primaryName == \"Brad Pitt\"))\n",
    "\n",
    "b=df5.join(df3, [\"tconst\"]).distinct ( )\n",
    "c=df4.join(df3, [\"nconst\"]).distinct ( )\n",
    "d=b.join(c, [\"tconst\"]).distinct().drop (\"tconst\",\"primaryName\", \"titleType\", \"knownForTitles\", \"category\", \"nconst\").dropDuplicates()\n",
    "d.sort(col(\"startYear\").desc()).show()"
   ]
  },
  {
   "cell_type": "code",
   "execution_count": null,
   "id": "a5322bd7",
   "metadata": {},
   "outputs": [],
   "source": []
  },
  {
   "cell_type": "markdown",
   "id": "c63e91b8",
   "metadata": {},
   "source": [
    "## 3) What is the number of \"movies\" \"acted\" by \"Zendaya\" per year?"
   ]
  },
  {
   "cell_type": "code",
   "execution_count": 44,
   "id": "9bf3c005",
   "metadata": {},
   "outputs": [
    {
     "data": {
      "application/vnd.jupyter.widget-view+json": {
       "model_id": "4c6252a7b1694182ac590d8196cacf11",
       "version_major": 2,
       "version_minor": 0
      },
      "text/plain": [
       "VBox()"
      ]
     },
     "metadata": {},
     "output_type": "display_data"
    },
    {
     "data": {
      "application/vnd.jupyter.widget-view+json": {
       "model_id": "",
       "version_major": 2,
       "version_minor": 0
      },
      "text/plain": [
       "FloatProgress(value=0.0, bar_style='info', description='Progress:', layout=Layout(height='25px', width='50%'),…"
      ]
     },
     "metadata": {},
     "output_type": "display_data"
    },
    {
     "name": "stdout",
     "output_type": "stream",
     "text": [
      "+---------+-----+\n",
      "|startYear|count|\n",
      "+---------+-----+\n",
      "|     2020|    1|\n",
      "|     2018|    2|\n",
      "|     2017|    1|\n",
      "+---------+-----+"
     ]
    }
   ],
   "source": [
    "nl1 = '\\\\N'\n",
    "df5= genres.select(\"tconst\", \"primaryTitle\",\"startYear\") \\\n",
    "     .filter ((genres.titleType==\"movie\") & (col(\"startYear\") != nll)) \n",
    "df3=movie_actors.select(\"tconst\", \"nconst\")\n",
    "df4=actors.select(\"primaryName\",\"nconst\") \\\n",
    "    .filter ((actors.primaryName == \"Zendaya\")) \n",
    "\n",
    "b=df5.join(df3, [\"tconst\"]).distinct ( )\n",
    "c=df4.join(df3, [\"nconst\"]).distinct ( )\n",
    "d=b.join(c, [\"tconst\"]). distinct().drop (\"tconst\",\"primaryName\", \"titleType\", \"knownForTitles\",  \"nconst\").dropDuplicates().groupBy(\"startYear\").agg(count(\"startYear\").alias(\"count\")).show()"
   ]
  },
  {
   "cell_type": "markdown",
   "id": "3c2f8604",
   "metadata": {},
   "source": [
    "## 4) What are the \"movies\" by average rating greater than \"9.7\" and released in \"2019\"?"
   ]
  },
  {
   "cell_type": "code",
   "execution_count": 48,
   "id": "9055864f",
   "metadata": {},
   "outputs": [
    {
     "data": {
      "application/vnd.jupyter.widget-view+json": {
       "model_id": "f750d97137c140ec813f83dc2418913d",
       "version_major": 2,
       "version_minor": 0
      },
      "text/plain": [
       "VBox()"
      ]
     },
     "metadata": {},
     "output_type": "display_data"
    },
    {
     "data": {
      "application/vnd.jupyter.widget-view+json": {
       "model_id": "",
       "version_major": 2,
       "version_minor": 0
      },
      "text/plain": [
       "FloatProgress(value=0.0, bar_style='info', description='Progress:', layout=Layout(height='25px', width='50%'),…"
      ]
     },
     "metadata": {},
     "output_type": "display_data"
    },
    {
     "name": "stdout",
     "output_type": "stream",
     "text": [
      "+--------------------+-------------+\n",
      "|        primaryTitle|averageRating|\n",
      "+--------------------+-------------+\n",
      "| The Butcher Baronet|         10.0|\n",
      "|A Medicine for th...|         10.0|\n",
      "|Bu Can Var Oldugu...|         10.0|\n",
      "|   L'Enfant Terrible|         10.0|\n",
      "|      A Grunt's Life|         10.0|\n",
      "|              Kirket|         10.0|\n",
      "|   Our Scripted Life|         10.0|\n",
      "|The Twilight Zone...|         10.0|\n",
      "|    Love in Kilnerry|         10.0|\n",
      "|         Superhombre|          9.9|\n",
      "|        The Cardinal|          9.9|\n",
      "|Puritan: All of L...|          9.9|\n",
      "|     Time and motion|          9.8|\n",
      "|We Shall Not Die Now|          9.8|\n",
      "|   From Shock to Awe|          9.8|\n",
      "|          Square One|          9.8|\n",
      "|Kamen Rider Zi-O:...|          9.8|\n",
      "|            Randhawa|          9.8|\n",
      "|   Gini Helida Kathe|          9.8|\n",
      "|         Freie Räume|          9.7|\n",
      "+--------------------+-------------+\n",
      "only showing top 20 rows"
     ]
    }
   ],
   "source": [
    "movie_ratings.join(genres,on=\"tconst\", how=\"left\")\\\n",
    ".select(\"primaryTitle\",\"averageRating\")\\\n",
    ".withColumn(\"averageRating\", col(\"averageRating\").cast(\"float\"))\\\n",
    ".filter((col(\"titletype\")==\"movie\")&((col(\"startYear\"))==2019))\\\n",
    ".sort(col(\"averageRating\").desc()).distinct().show()"
   ]
  },
  {
   "cell_type": "markdown",
   "id": "f4bf03e2",
   "metadata": {},
   "source": [
    "## Extra Credit - Analysis of your choice (2 pts)\n",
    "\n",
    "Try and analyze some interesting dimension to this data. You should specify the name of the analysis in your Project2_Analysis.ipynb. This part similar to Part 2 and Part 3.\n",
    "\n",
    "•\tYou must create at least one visual."
   ]
  },
  {
   "cell_type": "markdown",
   "id": "b67811a9",
   "metadata": {},
   "source": [
    "## Extra Credit 1) Count of Top Title Types in IMDb"
   ]
  },
  {
   "cell_type": "code",
   "execution_count": 36,
   "id": "898ba091",
   "metadata": {
    "scrolled": true
   },
   "outputs": [
    {
     "data": {
      "application/vnd.jupyter.widget-view+json": {
       "model_id": "0133caff7b944f10912cb5364a446cb2",
       "version_major": 2,
       "version_minor": 0
      },
      "text/plain": [
       "VBox()"
      ]
     },
     "metadata": {},
     "output_type": "display_data"
    },
    {
     "data": {
      "application/vnd.jupyter.widget-view+json": {
       "model_id": "",
       "version_major": 2,
       "version_minor": 0
      },
      "text/plain": [
       "FloatProgress(value=0.0, bar_style='info', description='Progress:', layout=Layout(height='25px', width='50%'),…"
      ]
     },
     "metadata": {},
     "output_type": "display_data"
    },
    {
     "name": "stdout",
     "output_type": "stream",
     "text": [
      "+------------+-------+\n",
      "|   titleType|  count|\n",
      "+------------+-------+\n",
      "|   tvEpisode|6562819|\n",
      "|       short|1464571|\n",
      "|       movie| 719615|\n",
      "|       video| 387723|\n",
      "|    tvSeries| 215033|\n",
      "|     tvMovie| 138510|\n",
      "|tvMiniSeries|  35339|\n",
      "|   videoGame|  33753|\n",
      "|   tvSpecial|  26638|\n",
      "|     tvShort|  23559|\n",
      "+------------+-------+"
     ]
    }
   ],
   "source": [
    "dframe2 = genres.groupBy(\"titleType\").agg(count(\"titleType\").alias(\"count\"))\n",
    "dframe2.sort(col(\"count\").desc()).show()"
   ]
  },
  {
   "cell_type": "code",
   "execution_count": 42,
   "id": "17aaa016",
   "metadata": {
    "scrolled": false
   },
   "outputs": [
    {
     "data": {
      "application/vnd.jupyter.widget-view+json": {
       "model_id": "35d517089b3044c9a77170ddfe78ad6d",
       "version_major": 2,
       "version_minor": 0
      },
      "text/plain": [
       "VBox()"
      ]
     },
     "metadata": {},
     "output_type": "display_data"
    },
    {
     "data": {
      "application/vnd.jupyter.widget-view+json": {
       "model_id": "",
       "version_major": 2,
       "version_minor": 0
      },
      "text/plain": [
       "FloatProgress(value=0.0, bar_style='info', description='Progress:', layout=Layout(height='25px', width='50%'),…"
      ]
     },
     "metadata": {},
     "output_type": "display_data"
    },
    {
     "data": {
      "image/png": "[encoded data removed]",
      "text/plain": [
       "<IPython.core.display.Image object>"
      ]
     },
     "metadata": {},
     "output_type": "display_data"
    }
   ],
   "source": [
    "import matplotlib.pyplot as plt\n",
    "dframe3=dframe2.sort(col(\"count\").desc())\n",
    "dframe3.toPandas().plot.bar(\"titleType\",\"count\",color ='blue', width=0.5, figsize=(9,7))\n",
    "plt.title(\"Top IMDb Titles by Genres\")\n",
    "plt.ylabel(\"Count\")\n",
    "plt.xlabel(\"IMDb Title Type\")\n",
    "plt.ylim([20000, 7000000]) \n",
    "plt.xticks(rotation=20)\n",
    "%matplot plt"
   ]
  },
  {
   "cell_type": "markdown",
   "id": "c62b20c7",
   "metadata": {},
   "source": [
    "## Extra Credit - Answering a question of your choice (2 pts)\n",
    "\n",
    "Come up an answer to a question like in Part 4. The question of your choice should not be similar to the ones given in Part 4. Try to find an interesting question using different columns (i.e. num_votes, runtime). You should specify the question in Project2_Analysis.ipynb. \n",
    "\n",
    "•\tYou must join at least two datasets."
   ]
  },
  {
   "cell_type": "markdown",
   "id": "7ffb864d",
   "metadata": {},
   "source": [
    "## Extra Credit 2) Top 100 Short Films with a 3 minute Runtime or Shorter"
   ]
  },
  {
   "cell_type": "code",
   "execution_count": 56,
   "id": "0ca297bb",
   "metadata": {
    "scrolled": false
   },
   "outputs": [
    {
     "data": {
      "application/vnd.jupyter.widget-view+json": {
       "model_id": "2a5321e1c20041f39db01e64c4e7ce0a",
       "version_major": 2,
       "version_minor": 0
      },
      "text/plain": [
       "VBox()"
      ]
     },
     "metadata": {},
     "output_type": "display_data"
    },
    {
     "data": {
      "application/vnd.jupyter.widget-view+json": {
       "model_id": "",
       "version_major": 2,
       "version_minor": 0
      },
      "text/plain": [
       "FloatProgress(value=0.0, bar_style='info', description='Progress:', layout=Layout(height='25px', width='50%'),…"
      ]
     },
     "metadata": {},
     "output_type": "display_data"
    },
    {
     "name": "stdout",
     "output_type": "stream",
     "text": [
      "+--------------------+--------------+-------------+\n",
      "|        primaryTitle|runtimeMinutes|averageRating|\n",
      "+--------------------+--------------+-------------+\n",
      "|           Paparazzi|             3|         10.0|\n",
      "|      Maledetta Cuba|             3|         10.0|\n",
      "|                 Blå|             3|         10.0|\n",
      "|       Stabber Horst|             2|         10.0|\n",
      "|          One Minute|             2|         10.0|\n",
      "|           Reel Life|             3|         10.0|\n",
      "|             Xenesis|             2|         10.0|\n",
      "|           Pool Guys|             2|         10.0|\n",
      "|Breve film contro...|             1|         10.0|\n",
      "|     Io non ci casco|             2|         10.0|\n",
      "|         Black River|             1|         10.0|\n",
      "| Je suis célibataire|             3|         10.0|\n",
      "|            Captured|             3|         10.0|\n",
      "|             Palette|             1|         10.0|\n",
      "|              Nation|             2|         10.0|\n",
      "|A Ballad of Solitude|             2|         10.0|\n",
      "|Istrione o figura...|             3|         10.0|\n",
      "|      The Bottle Boy|             3|         10.0|\n",
      "|          For Better|             3|         10.0|\n",
      "|As He Looked Into...|             1|         10.0|\n",
      "|          Brookshire|             3|         10.0|\n",
      "|        Sandra's Kid|             3|         10.0|\n",
      "|               Woods|             3|         10.0|\n",
      "|Clouds: The Young...|             3|         10.0|\n",
      "|  I colori del cielo|             2|          9.9|\n",
      "|         Fun at Work|             2|          9.9|\n",
      "|The Real Housewiv...|             3|          9.8|\n",
      "|      Bread Brothers|             3|          9.8|\n",
      "|Ca$hi - 7 Grains....|             2|          9.8|\n",
      "|            Cristina|             3|          9.8|\n",
      "|         Room to Let|             3|          9.8|\n",
      "|Watchtower of Turkey|             3|          9.8|\n",
      "|Quarter Pounder w...|             2|          9.8|\n",
      "|          Last Night|             3|          9.8|\n",
      "|Lil Timmy Tim: St...|             3|          9.8|\n",
      "|Call Today and No...|             1|          9.8|\n",
      "|Children of the W...|             1|          9.8|\n",
      "|      Jovem Pescador|             1|          9.8|\n",
      "|Night Life is Spo...|             3|          9.8|\n",
      "|     Pity of a Clown|             3|          9.8|\n",
      "|            Benefits|             3|          9.8|\n",
      "|     Bedtime Stories|             3|          9.8|\n",
      "|Loucuras De Carnaval|             2|          9.8|\n",
      "|       Land of Steel|             2|          9.8|\n",
      "|                Home|             1|          9.8|\n",
      "|            Farewell|             2|          9.7|\n",
      "|              Kenbie|             3|          9.7|\n",
      "|       Smiling Woman|             3|          9.7|\n",
      "|Spider-Man loves ...|             1|          9.7|\n",
      "|     Suction Cup Man|             2|          9.7|\n",
      "| How to: EcoFIRE(TM)|             3|          9.7|\n",
      "|     The Lone Fidler|             2|          9.7|\n",
      "|         Kid Science|             1|          9.7|\n",
      "|         Whippedlash|             3|          9.7|\n",
      "|          Homecoming|             1|          9.7|\n",
      "|        Take My Hand|             3|          9.7|\n",
      "|             Goodbye|             3|          9.6|\n",
      "|             La Mata|             3|          9.6|\n",
      "|      Who Killed Me?|             2|          9.6|\n",
      "|              Strays|             3|          9.6|\n",
      "|             Quietus|             3|          9.6|\n",
      "|        Der Offizier|             1|          9.6|\n",
      "|               Alive|             3|          9.6|\n",
      "|            A Favour|             3|          9.6|\n",
      "|    The Best Revenge|             1|          9.6|\n",
      "|    The Photographer|             3|          9.6|\n",
      "|       Communication|             2|          9.6|\n",
      "|     Ma Byujiyepachi|             3|          9.6|\n",
      "|         Jar of Bees|             2|          9.6|\n",
      "|      A Trip to Mars|             2|          9.6|\n",
      "|               Robot|             1|          9.6|\n",
      "|The Dim Sum of it...|             2|          9.5|\n",
      "|Bring Life to Any...|             1|          9.5|\n",
      "|            Courting|             3|          9.5|\n",
      "|Justified: Sneak ...|             3|          9.5|\n",
      "|A Brief History o...|             3|          9.5|\n",
      "|Mardi Gras: Sprin...|             3|          9.5|\n",
      "|   David Lana: Girls|             3|          9.5|\n",
      "|           The Chase|             1|          9.5|\n",
      "|        Going Places|             3|          9.5|\n",
      "|           Manifesto|             3|          9.5|\n",
      "|        Bad hair day|             2|          9.5|\n",
      "|      Doing It Wrong|             3|          9.5|\n",
      "|     Attwengers Luft|             3|          9.4|\n",
      "|     Nigel's Cookies|             3|          9.4|\n",
      "|          The Moment|             3|          9.4|\n",
      "|   My Name Is Steven|             2|          9.4|\n",
      "|     My Kind of Girl|             2|          9.4|\n",
      "|  A Bottle's Odyssey|             1|          9.4|\n",
      "|Dracula Trucks Again|             2|          9.4|\n",
      "|          Cleo-Patra|             3|          9.4|\n",
      "|                Ears|             3|          9.4|\n",
      "|               Heavy|             2|          9.4|\n",
      "|  Marionetas Puppets|             3|          9.4|\n",
      "|                Life|             3|          9.4|\n",
      "|            Language|             3|          9.4|\n",
      "|          Birthmarks|             3|          9.4|\n",
      "|Frontier Psychiat...|             1|          9.4|\n",
      "|            Le Cocon|             2|          9.4|\n",
      "|    Strongfala Kalja|             3|          9.4|\n",
      "+--------------------+--------------+-------------+\n",
      "only showing top 100 rows"
     ]
    }
   ],
   "source": [
    "movie_ratings.join(genres,on=\"tconst\", how=\"left\")\\\n",
    ".select(\"primaryTitle\",\"runtimeMinutes\", \"averageRating\")\\\n",
    ".withColumn(\"averageRating\", col(\"averageRating\").cast(\"float\"))\\\n",
    ".filter((col(\"titleType\")==\"short\")&((col(\"runtimeMinutes\"))<= 3))\\\n",
    ".sort(col(\"averageRating\").desc()).distinct().show(100)"
   ]
  },
  {
   "cell_type": "code",
   "execution_count": 48,
   "id": "8b791451",
   "metadata": {
    "scrolled": false
   },
   "outputs": [
    {
     "data": {
      "application/vnd.jupyter.widget-view+json": {
       "model_id": "f39285ccc26b48d9b7bfa110a58308a3",
       "version_major": 2,
       "version_minor": 0
      },
      "text/plain": [
       "VBox()"
      ]
     },
     "metadata": {},
     "output_type": "display_data"
    },
    {
     "data": {
      "application/vnd.jupyter.widget-view+json": {
       "model_id": "",
       "version_major": 2,
       "version_minor": 0
      },
      "text/plain": [
       "FloatProgress(value=0.0, bar_style='info', description='Progress:', layout=Layout(height='25px', width='50%'),…"
      ]
     },
     "metadata": {},
     "output_type": "display_data"
    },
    {
     "name": "stdout",
     "output_type": "stream",
     "text": [
      "['tconst', 'titleType', 'primaryTitle', 'originalTitle', 'isAdult', 'startYear', 'endYear', 'runtimeMinutes', 'genres']"
     ]
    }
   ],
   "source": [
    "genres.columns"
   ]
  },
  {
   "cell_type": "code",
   "execution_count": 50,
   "id": "d58701d4",
   "metadata": {},
   "outputs": [
    {
     "data": {
      "application/vnd.jupyter.widget-view+json": {
       "model_id": "5b47fc614cbb4c569d983a9bcf402e6a",
       "version_major": 2,
       "version_minor": 0
      },
      "text/plain": [
       "VBox()"
      ]
     },
     "metadata": {},
     "output_type": "display_data"
    },
    {
     "data": {
      "application/vnd.jupyter.widget-view+json": {
       "model_id": "",
       "version_major": 2,
       "version_minor": 0
      },
      "text/plain": [
       "FloatProgress(value=0.0, bar_style='info', description='Progress:', layout=Layout(height='25px', width='50%'),…"
      ]
     },
     "metadata": {},
     "output_type": "display_data"
    },
    {
     "name": "stdout",
     "output_type": "stream",
     "text": [
      "['tconst', 'averageRating', 'numVotes']"
     ]
    }
   ],
   "source": [
    "movie_ratings.columns"
   ]
  }
 ],
 "metadata": {
  "kernelspec": {
   "display_name": "PySpark",
   "language": "",
   "name": "pysparkkernel"
  },
  "language_info": {
   "codemirror_mode": {
    "name": "python",
    "version": 2
   },
   "mimetype": "text/x-python",
   "name": "pyspark",
   "pygments_lexer": "python2"
  }
 },
 "nbformat": 4,
 "nbformat_minor": 5
}
